{
 "cells": [
  {
   "cell_type": "code",
   "execution_count": 1,
   "metadata": {},
   "outputs": [
    {
     "name": "stdout",
     "output_type": "stream",
     "text": [
      "Index(['GEO.id', 'GEO.id2', 'GEO.display-label', 'HC01_EST_VC01',\n",
      "       'HC01_MOE_VC01', 'HC02_EST_VC01', 'HC02_MOE_VC01', 'HC03_EST_VC01',\n",
      "       'HC03_MOE_VC01', 'HC01_EST_VC03',\n",
      "       ...\n",
      "       'HC02_EST_VC62', 'HC02_MOE_VC62', 'HC03_EST_VC62', 'HC03_MOE_VC62',\n",
      "       'HC01_EST_VC65', 'HC01_MOE_VC65', 'HC02_EST_VC65', 'HC02_MOE_VC65',\n",
      "       'HC03_EST_VC65', 'HC03_MOE_VC65'],\n",
      "      dtype='object', length=279)\n",
      "Index(['Year', 'Locationabbr', 'Locationdesc', 'Class', 'Topic', 'Question',\n",
      "       'Response', 'Break_Out', 'Break_Out_Category', 'Sample_Size',\n",
      "       'Data_value', 'Confidence_limit_Low', 'Confidence_limit_High',\n",
      "       'Display_order', 'Data_value_unit', 'Data_value_type',\n",
      "       'Data_Value_Footnote_Symbol', 'Data_Value_Footnote', 'DataSource',\n",
      "       'ClassId', 'TopicId', 'LocationID', 'BreakoutID', 'BreakOutCategoryID',\n",
      "       'QuestionID', 'ResponseID', 'GeoLocation'],\n",
      "      dtype='object')\n"
     ]
    }
   ],
   "source": [
    "import pandas as pd\n",
    "import numpy as np\n",
    "import locale\n",
    "\n",
    "# locale.setlocale(locale.LC_ALL, 'en-US')\n",
    "\n",
    "# declare path for US Census file\n",
    "census_file = \"DataSets/ACS_14_1YR_S1701_with_ann.csv\"\n",
    "\n",
    "# declare path for behavorial risk file\n",
    "risk_file = \"DataSets/BRFSS_2014_Overall.csv\"\n",
    "\n",
    "#open files\n",
    "census_pd = pd.read_csv(census_file)\n",
    "risk_pd = pd.read_csv(risk_file)\n",
    "\n",
    "\n",
    "print(census_pd.columns)\n",
    "\n",
    "print(risk_pd.columns)\n",
    "\n",
    "# Rename columns for readability\n",
    "renamed_census_pd = census_pd.rename(columns={\n",
    "    \"GEO.id2\": \"id\",\n",
    "    \"GEO.display-label\": \"state\",\n",
    "    \"HC03_EST_VC01\": \"poverty\"\n",
    "})\n",
    "\n",
    "\n",
    "renamed_risk_pd = risk_pd.rename(columns={\n",
    "    \"Locationabbr\": \"abbr\",\n",
    "    \"Locationdesc\": \"state\",\n",
    "    \"Data_value\": \"healthcare\"\n",
    "})\n",
    "\n",
    "renamed_census_pd.drop([0], inplace=True)\n",
    "\n",
    "census_df = pd.DataFrame(renamed_census_pd[['id','state','poverty']])\n",
    "risk_df = pd.DataFrame(renamed_risk_pd[['abbr','state','healthcare']])\n"
   ]
  },
  {
   "cell_type": "code",
   "execution_count": 2,
   "metadata": {},
   "outputs": [
    {
     "data": {
      "text/html": [
       "<div>\n",
       "<style>\n",
       "    .dataframe thead tr:only-child th {\n",
       "        text-align: right;\n",
       "    }\n",
       "\n",
       "    .dataframe thead th {\n",
       "        text-align: left;\n",
       "    }\n",
       "\n",
       "    .dataframe tbody tr th {\n",
       "        vertical-align: top;\n",
       "    }\n",
       "</style>\n",
       "<table border=\"1\" class=\"dataframe\">\n",
       "  <thead>\n",
       "    <tr style=\"text-align: right;\">\n",
       "      <th></th>\n",
       "      <th>id</th>\n",
       "      <th>state</th>\n",
       "      <th>poverty</th>\n",
       "    </tr>\n",
       "  </thead>\n",
       "  <tbody>\n",
       "    <tr>\n",
       "      <th>1</th>\n",
       "      <td>01</td>\n",
       "      <td>Alabama</td>\n",
       "      <td>19.3</td>\n",
       "    </tr>\n",
       "    <tr>\n",
       "      <th>2</th>\n",
       "      <td>02</td>\n",
       "      <td>Alaska</td>\n",
       "      <td>11.2</td>\n",
       "    </tr>\n",
       "    <tr>\n",
       "      <th>3</th>\n",
       "      <td>04</td>\n",
       "      <td>Arizona</td>\n",
       "      <td>18.2</td>\n",
       "    </tr>\n",
       "    <tr>\n",
       "      <th>4</th>\n",
       "      <td>05</td>\n",
       "      <td>Arkansas</td>\n",
       "      <td>18.9</td>\n",
       "    </tr>\n",
       "    <tr>\n",
       "      <th>5</th>\n",
       "      <td>06</td>\n",
       "      <td>California</td>\n",
       "      <td>16.4</td>\n",
       "    </tr>\n",
       "  </tbody>\n",
       "</table>\n",
       "</div>"
      ],
      "text/plain": [
       "   id       state poverty\n",
       "1  01     Alabama    19.3\n",
       "2  02      Alaska    11.2\n",
       "3  04     Arizona    18.2\n",
       "4  05    Arkansas    18.9\n",
       "5  06  California    16.4"
      ]
     },
     "execution_count": 2,
     "metadata": {},
     "output_type": "execute_result"
    }
   ],
   "source": [
    "census_df.head()"
   ]
  },
  {
   "cell_type": "code",
   "execution_count": 3,
   "metadata": {},
   "outputs": [
    {
     "data": {
      "text/html": [
       "<div>\n",
       "<style>\n",
       "    .dataframe thead tr:only-child th {\n",
       "        text-align: right;\n",
       "    }\n",
       "\n",
       "    .dataframe thead th {\n",
       "        text-align: left;\n",
       "    }\n",
       "\n",
       "    .dataframe tbody tr th {\n",
       "        vertical-align: top;\n",
       "    }\n",
       "</style>\n",
       "<table border=\"1\" class=\"dataframe\">\n",
       "  <thead>\n",
       "    <tr style=\"text-align: right;\">\n",
       "      <th></th>\n",
       "      <th>abbr</th>\n",
       "      <th>state</th>\n",
       "      <th>healthcare</th>\n",
       "    </tr>\n",
       "  </thead>\n",
       "  <tbody>\n",
       "    <tr>\n",
       "      <th>0</th>\n",
       "      <td>AL</td>\n",
       "      <td>Alabama</td>\n",
       "      <td>13.9</td>\n",
       "    </tr>\n",
       "    <tr>\n",
       "      <th>1</th>\n",
       "      <td>AK</td>\n",
       "      <td>Alaska</td>\n",
       "      <td>15.0</td>\n",
       "    </tr>\n",
       "    <tr>\n",
       "      <th>2</th>\n",
       "      <td>AZ</td>\n",
       "      <td>Arizona</td>\n",
       "      <td>14.4</td>\n",
       "    </tr>\n",
       "    <tr>\n",
       "      <th>3</th>\n",
       "      <td>AR</td>\n",
       "      <td>Arkansas</td>\n",
       "      <td>16.3</td>\n",
       "    </tr>\n",
       "    <tr>\n",
       "      <th>4</th>\n",
       "      <td>CA</td>\n",
       "      <td>California</td>\n",
       "      <td>14.8</td>\n",
       "    </tr>\n",
       "  </tbody>\n",
       "</table>\n",
       "</div>"
      ],
      "text/plain": [
       "  abbr       state  healthcare\n",
       "0   AL     Alabama        13.9\n",
       "1   AK      Alaska        15.0\n",
       "2   AZ     Arizona        14.4\n",
       "3   AR    Arkansas        16.3\n",
       "4   CA  California        14.8"
      ]
     },
     "execution_count": 3,
     "metadata": {},
     "output_type": "execute_result"
    }
   ],
   "source": [
    "risk_df.head()"
   ]
  },
  {
   "cell_type": "code",
   "execution_count": 4,
   "metadata": {
    "collapsed": true
   },
   "outputs": [],
   "source": [
    "merged_pd = census_df.merge(risk_df, on='state', how='inner')\n",
    "merged_pd.to_csv(\"DataSets/mergeddata.csv\",index=False)"
   ]
  }
 ],
 "metadata": {
  "kernelspec": {
   "display_name": "Python [conda env:PythonData]",
   "language": "python",
   "name": "conda-env-PythonData-py"
  },
  "language_info": {
   "codemirror_mode": {
    "name": "ipython",
    "version": 3
   },
   "file_extension": ".py",
   "mimetype": "text/x-python",
   "name": "python",
   "nbconvert_exporter": "python",
   "pygments_lexer": "ipython3",
   "version": "3.6.1"
  }
 },
 "nbformat": 4,
 "nbformat_minor": 2
}
